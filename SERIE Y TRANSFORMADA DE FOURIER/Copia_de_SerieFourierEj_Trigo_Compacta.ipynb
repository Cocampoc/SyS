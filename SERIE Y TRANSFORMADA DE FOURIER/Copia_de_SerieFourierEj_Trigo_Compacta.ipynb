{
  "nbformat": 4,
  "nbformat_minor": 0,
  "metadata": {
    "kernelspec": {
      "display_name": "Python 3",
      "language": "python",
      "name": "python3"
    },
    "language_info": {
      "codemirror_mode": {
        "name": "ipython",
        "version": 3
      },
      "file_extension": ".py",
      "mimetype": "text/x-python",
      "name": "python",
      "nbconvert_exporter": "python",
      "pygments_lexer": "ipython3",
      "version": "3.7.1"
    },
    "colab": {
      "provenance": [],
      "include_colab_link": true
    }
  },
  "cells": [
    {
      "cell_type": "markdown",
      "metadata": {
        "id": "view-in-github",
        "colab_type": "text"
      },
      "source": [
        "<a href=\"https://colab.research.google.com/github/Cocampoc/SyS/blob/main/Copia_de_SerieFourierEj_Trigo_Compacta.ipynb\" target=\"_parent\"><img src=\"https://colab.research.google.com/assets/colab-badge.svg\" alt=\"Open In Colab\"/></a>"
      ]
    },
    {
      "cell_type": "markdown",
      "metadata": {
        "id": "NSVGgZYt0fBN"
      },
      "source": [
        "# Serie de Fourier\n",
        "- Se presentan los conceptos básicos de la serie de Fourier.\n",
        "\n",
        "- Sea $x(t)\\in \\mathbb{R},\\mathbb{C}$ una señal definida en el intervalo finito $t\\in[t_i,t_f]$ o $t\\in[-T/2,T/2]$, que cumple las [condiciones de Dirichlet](https://en.wikipedia.org/wiki/Dirichlet_conditions#:~:text=In%20mathematics%2C%20the%20Dirichlet%20conditions,point%20where%20f%20is%20continuous.):\n",
        "\n",
        "  - $\\int_T |x(t)| dt < \\infty$.\n",
        "  - $x(t)$ presenta discontinuidades hasta de primer orden.\n",
        "  - $x(t)$ presenta una cantidad finita de mínimos y máximos.\n",
        "\n",
        "- La representación generalizada de Fourier de $x(t)$ se puede definir a partir de un conjunto de funciones base ortogonales $\\{\\phi_n(t)\\in\\mathbb{R},\\mathbb{C}\\}_{n\\in\\mathbb{Z}}$, tal que:\n",
        "\n",
        "$$\n",
        "\\int_T \\phi_n(t)\\phi_m^*(t)dt =\\left\\{\\begin{align}\n",
        "0; & \\quad n\\neq m\\\\ E_n=\\int_T|\\phi_n(t)|^2dt; & \\quad n=m\\end{align}\\right.,\n",
        "$$\n",
        "\n",
        "mediante la combinación lineal:\n",
        "\n",
        "$$\\hat{x}(t)=\\sum_{n=-N}^N c_n \\phi_n(t)$$\n",
        "\n",
        "- A partir de la minimización de la potencia media del error $\\bar{P}_e = \\int_T |x(t)-\\hat{x}(t)|^2dt,$ los pesos $c_n\\in \\mathbb{R,C}$, denominados el espectro, se pueden calcular como:\n",
        "\n",
        "\n",
        "$$c_n = \\frac{\\langle x(t),\\phi_n(t) \\rangle}{\\|\\phi_n(t)\\|_2^2} = \\frac{\\int_T x(t)\\phi^*_n(t)dt}{\\int_T |\\phi_n(t)|^2dt}.$$\n",
        "\n",
        "\n",
        "- Además, la potencia media del error, $\\bar{P}_e$, se puede reescribir como:\n",
        "\n",
        "$$\\bar{P}_e = \\bar{P}_x-\\sum^N_{n=-N}|c_n|^2P_n \\geq 0$$\n",
        "\n",
        "- Entonces:\n",
        "\n",
        "$$\\bar{P}_x \\geq \\sum^N_{n=-N}|c_n|^2P_n$$\n",
        "\n",
        "- La anterior desigualdad se conoce como la [desigualdad de Bessel](https://en.wikipedia.org/wiki/Bessel%27s_inequality).\n",
        "\n",
        "- Para el caso en el que $N\\to \\infty,$ el [teorema de Parseval](https://en.wikipedia.org/wiki/Parseval%27s_theorem) establece que:\n",
        "\n",
        "\n",
        "$$\\lim_{N\\to \\infty} \\bar{P}_x-\\sum^N_{n=-N}|c_n|^2P_n = 0$$.\n",
        "\n",
        "- En este caso:\n",
        "\n",
        "$$P_n = \\frac{1}{T}\\int_T |\\phi_n(t)|^2dt$$\n",
        "\n",
        "**Nota**: A partir de la potencia media del error, se puede definir una medida normalizada, denominada error relativo, como:\n",
        "\n",
        "$$e_r[\\%] = \\frac{\\bar{P}_e}{\\bar{P_x}} 100[\\%] = \\left(1-\\frac{\\sum^N_{n=-N}|c_n|^2P_n}{\\bar{P}_e}\\right)100[\\%]$$\n",
        "\n",
        "\n",
        "\n"
      ]
    },
    {
      "cell_type": "markdown",
      "metadata": {
        "id": "Mq4NHPkLxRWj"
      },
      "source": [
        "# Serie de Fourier exponencial\n",
        "\n",
        "- Para la serie de Fourier exponencial, las bases se fijan como $\\{\\phi_n(t)=e^{jn\\omega_o t}\\}_{n\\in\\mathbb{Z}}$, por ende la reconstrucción de la señal se escribe según:\n",
        "\n",
        "$$\\hat{x}(t)=\\sum_{n=-N}^N c_ne^{jn\\omega_o t}$$\n",
        "\n",
        "donde $\\omega_o = \\frac{2\\pi}{tf-ti}=\\frac{2\\pi}{T}.$\n",
        "\n",
        "- Además, teniendo en cuenta que:\n",
        "\n",
        "$$\n",
        "\\int_T e^{jn\\omega_ot}e^{-jm\\omega_ot}dt =\\left\\{\\begin{align}\n",
        "0; & \\quad n\\neq m\\\\ E_n=\\int_T|e^{jn\\omega_o t}|^2dt=T; & \\quad n=m\\end{align}\\right.,\n",
        "$$\n",
        "\n",
        "- El espectro $c_n$ se puede calcular como:\n",
        "\n",
        "$$c_n = \\frac{1}{T}\\int_T x(t)e^{-jn\\omega_ot}dt$$\n",
        "\n",
        "- El espectro para $n=0$, se conoce comunmente como el nivel DC u offset (promedio) de la señal $x(t)$, ya que:\n",
        "\n",
        "$$c_0 = \\frac{1}{T}\\int_T x(t)e^{0}dt=\\frac{1}{T}\\int_T x(t)dt.$$\n",
        "\n",
        "**Nota:** Dado que $E_n=T$ para las bases de la serie de Fourier $e^{jn\\omega_ot},$ la potencia $P_n = 1.$\n",
        "\n",
        "- El espectro $c_n$, nos da una idea del parecido entre la señal de entrada $x(t)$ y la base $e^{jn\\omega_o t}$, dado el grado de variación según la frecuencia de las bases  $\\omega_n = nw\\omega_o,$ donde $n$ se conoce como el *armónico* o múltiplo de la frecuencia fundamental $\\omega_o$.\n",
        "\n",
        "- Por lo general, es de interés obtener el gráfico de magnitud y fase de $c_n$, donde:\n",
        "\n",
        "$$c_n=\\sqrt{{\\rm{Re}}^2\\{c_n\\}+{\\rm{Im}}^2\\{c_n\\}}$$\n",
        "\n",
        "y\n",
        "\n",
        "$$\\theta_n = \\tan^{-1}\\left(\\frac{{\\rm{Im}}\\{c_n\\}}{{\\rm{Re}}\\{c_n\\}}\\right)$$.\n",
        "\n",
        "- En general, se habla del contenido frecuencial de la señal según el espectro de frecuencia $c_n$, y es ampliamente utilizado en ingeniería (por ejemplo ver [Diagramas de Bode](https://en.wikipedia.org/wiki/Bode_plot))."
      ]
    },
    {
      "cell_type": "markdown",
      "metadata": {
        "id": "JFqk87MIwuDx"
      },
      "source": [
        "# Serie de Fourier trigonométrica y compacta\n",
        "\n",
        "- Por facilidad de cálculo, la serie exponencial de Fourier se puede extender a sus versiones trigonométrica y compacta.\n",
        "\n",
        "- La serie trigonométrica asume que:\n",
        "\n",
        "$$\\hat{x}(t) = \\sum_{n=0}^{N}a_n\\cos(n\\omega_o t) + b_n\\sin(n\\omega_o t)$$.\n",
        "\n",
        "- Aplicando el mismo razomiento de representación mediante bases ortogonales, se tiene que:\n",
        "\n",
        "$$a_n = \\frac{\\langle x(t),\\cos(n\\omega_ot)\\rangle}{\\|\\cos(n\\omega_ot)\\|_2^2}=\\frac{\\int_Tx(t)\\cos(n\\omega_ot)dt}{\\int_T|\\cos(n\\omega_ot)|^2dt}$$\n",
        "\n",
        "$$a_n = \\frac{2}{T}\\int_Tx(t)\\cos(n\\omega_ot)dt$$\n",
        "\n",
        "y\n",
        "\n",
        "$$b_n = \\frac{\\langle x(t),\\sin(n\\omega_ot)\\rangle}{\\|\\sin(n\\omega_ot)\\|_2^2}=\\frac{\\int_Tx(t)\\sin(n\\omega_ot)dt}{\\int_T|\\sin(n\\omega_ot)|^2dt}$$\n",
        "\n",
        "$$b_n = \\frac{2}{T}\\int_Tx(t)\\sin(n\\omega_ot)dt$$\n",
        "\n",
        "- Para el caso particular $n=0$:\n",
        "\n",
        "$$a_0 = \\frac{\\int_Tx(t)\\cos(0)dt}{\\int_T|\\cos(0)|^2dt}=\\frac{\\int_Tx(t)dt}{\\int_Tdt}$$\n",
        "\n",
        "$$a_0 =c_0 = \\frac{1}{T}\\int_Tx(t)dt$$\n",
        "\n",
        "$$b_0 = \\frac{\\int_Tx(t)\\sin(0)dt}{\\int_T|\\sin(0)|^2dt}\\to 0$$\n",
        "\n",
        "$$b_0 = 0$$\n",
        "\n",
        "- Dado que $x(t)$ puede presentar simetría par o impar, $x(t)=x(-t)\\to$ SIMETRÍA PAR, $x(t)=-x(-t)\\to$ SIMETRÍA IMPAR, y dado que el $\\cos(\\theta)$ presenta simetría PAR y el $\\sin(\\theta)$ presenta simetría IMPAR, la serie trigonométrica puede simplificar sus cálculos para cuando $x(t)$ presenta algún tipo de simetría (Ver [material apoyo](https://github.com/amalvarezme/SenalesSistemas/blob/master/3_SerieyTransformadaFourier/Simetria_SerieFourier.pdf)).\n",
        "\n",
        "- Finalmente, la serie trigonomérica compacta, resume la representación solo utilizando funciones coseno desafasadas:\n",
        "\n",
        "\\begin{equation}\n",
        "d_n = \\sqrt{a_n^2+b_n^2} = 2|c_n|; \\quad n > 0\n",
        "\\end{equation}\n",
        "\\begin{equation}\n",
        "d_0 = a_0;  \n",
        "\\end{equation}\n",
        "\n",
        "\\begin{equation}\n",
        "\\phi_n = \\tan^{-1}\\left(\\frac{\\mathsf{Im}\\{c_n\\}}{\\mathsf{Re}\\{c_n\\}}\\right) = \\tan^{-1}\\left(\\frac{-b_n}{a_n}\\right); \\quad n \\geq 0\n",
        "\\end{equation}\n",
        "\n",
        "y:\n",
        "\n",
        "\\begin{equation}\n",
        "\\hat{x}(t) = \\sum\\limits_{n=0}^N{d_n \\cos(n\\omega_ot+\\phi_n)}.\n",
        "\\end{equation}\n",
        "\n",
        "## Implementaciones\n",
        "\n",
        "- Si $x(t)$ presenta algun tipo de simetría, se sugiere utilizar la serie trigonométrica de Fourier, y para pasar a la exponencial, se puede utilizar la siguiente relación:\n",
        "\n",
        "\\begin{equation}\n",
        "c_n = \\frac{a_n - jb_n}{2}, \\quad n\\neq 0\\\\\n",
        "c_0 = a_0.\n",
        "\\end{equation}\n",
        "\n",
        "- Si se desea calcular la serie de Fourier exponencial, para pasar a su versión trigonométrica se puede utilizar la siguiente relación:\n",
        "\n",
        "$$a_0 = c_0, \\quad b_0 = 0$$\n",
        "\n",
        "$$a_n = 2{\\rm{Re\\{c_n\\}}}$$\n",
        "\n",
        "$$b_n = -2{\\rm{Im\\{c_n\\}}}$$\n"
      ]
    },
    {
      "cell_type": "markdown",
      "metadata": {
        "id": "eO5UjVfg0fBP"
      },
      "source": [
        "## Ejemplo\n",
        "\n",
        "- Sea la señal:\n",
        "\n",
        "\\begin{equation}\n",
        "x(t) = \\begin{cases} A, & -T/2 \\leq t < 0 \\\\ -A, & 0 \\leq t < T/2 \\end{cases}\n",
        "\\end{equation}\n",
        "\n",
        "- Su espectro en serie de Fourier (compleja), se calcula como:\n",
        "\n",
        "\\begin{equation}\n",
        "c_n = \\frac{1}{T}\\int^{T/2}_{-T/2}{x(t)e^{-jn\\omega_o t}}dt=\\frac{jA}{n\\pi}(1-(-1)^n); \\quad n\\neq 0\n",
        "\\end{equation}\n",
        "\n",
        "donde\n",
        "\n",
        "\\begin{equation}\n",
        "c_0 = \\frac{1}{T}\\int^{T/2}_{-T/2}{x(t)}dt=0\n",
        "\\end{equation}\n",
        "y\n",
        "\n",
        "\\begin{equation}\n",
        "\\hat{x}(t) = \\sum\\limits_{n=-N}^N{c_n e^{jn\\omega_ot}}.\n",
        "\\end{equation}\n",
        "\n",
        "Además, su espectro en serie de Fourier (trigonométrica) se calcula como:\n",
        "\n",
        "\\begin{equation}\n",
        "a_n = \\frac{2}{T}\\int^{T/2}_{-T/2}{x(t)\\cos(n\\omega_o t)}dt=2\\mathsf{Re}\\{c_n\\}= 0; \\quad n > 0\n",
        "\\end{equation}\n",
        "\\begin{equation}\n",
        "a_0 = c_0 = 0.\n",
        "\\end{equation}\n",
        "\n",
        "\\begin{equation}\n",
        "b_n = \\frac{2}{T}\\int^{T/2}_{-T/2}{x(t)\\sin(n\\omega_o t)}dt=-2\\mathsf{Im}\\{c_n\\}=\\frac{2A}{n\\pi}((-1)^n-1); \\quad n > 0\n",
        "\\end{equation}\n",
        "\\begin{equation}\n",
        "b_0 = 0.\n",
        "\\end{equation}\n",
        "\n",
        "y:\n",
        "\n",
        "\\begin{equation}\n",
        "\\hat{x}(t) = a_0+\\sum\\limits_{n=1}^N{a_n \\cos(n\\omega_ot)+b_n\\sin{n\\omega_ot}}.\n",
        "\\end{equation}\n",
        "\n",
        "\n",
        "Por otra parte, su espectro en serie de Fourier compacta se calcula como:\n",
        "\n",
        "\\begin{equation}\n",
        "d_n = \\sqrt{a_n^2+b_n^2} = 2|c_n| = \\frac{2A}{n\\pi}((-1)^n-1); \\quad n > 0\n",
        "\\end{equation}\n",
        "\\begin{equation}\n",
        "d_0 = a_0;  \n",
        "\\end{equation}\n",
        "\n",
        "\\begin{equation}\n",
        "\\phi_n = \\tan^{-1}\\left(\\frac{\\mathsf{Im}\\{c_n\\}}{\\mathsf{Re}\\{c_n\\}}\\right) = \\tan^{-1}\\left(\\frac{-b_n}{a_n}\\right); \\quad n \\geq 0\n",
        "\\end{equation}\n",
        "\n",
        "- A continuación, se presentan las simulaciones respectivas."
      ]
    },
    {
      "cell_type": "code",
      "metadata": {
        "id": "Guk1vk_U0fBR"
      },
      "source": [
        "# Para graficar\n",
        "import matplotlib as mpl\n",
        "import matplotlib.pyplot as plt\n",
        "import numpy as np\n",
        "import warnings\n",
        "warnings.filterwarnings(\"ignore\")\n",
        "\n",
        "mpl.rc('axes', labelsize=14)\n",
        "mpl.rc('xtick', labelsize=12)\n",
        "mpl.rc('ytick', labelsize=12)\n",
        "\n",
        "A = 1 # amplitud de la señal\n",
        "T = 5 # segundos de gráfica\n",
        "Fs = 100 # frecuencia de muestreo definida\n",
        "tv = np.arange(-T/2,T/2,1/Fs) #vector de tiempo generado\n",
        "Nm = len(tv) #numero de muestras requeridas\n",
        "\n",
        "#se crea la señal A y -A concatenando\n",
        "xo = np.concatenate((A*np.ones(int(Nm/2)), -A*np.ones(int(Nm/2))), axis=0)\n",
        "#graficar señal original\n",
        "plt.plot(tv,xo,'r',linewidth=4)\n",
        "plt.grid()\n",
        "plt.xlabel(\"t[s]\",fontsize = 14)\n",
        "plt.ylabel(\"x(t)\",fontsize = 14)\n",
        "plt.show()"
      ],
      "execution_count": null,
      "outputs": []
    },
    {
      "cell_type": "markdown",
      "metadata": {
        "id": "DRN68VrH0fBY"
      },
      "source": [
        "- Para ilustrar las bases de Fourier, se crea una matriz con la cantidad de armónicos deseados según la variable $N$. Cada base se guarda como una columna de la matriz `phiN`.\n"
      ]
    },
    {
      "cell_type": "code",
      "metadata": {
        "id": "CJuiPCIl0fBZ"
      },
      "source": [
        "N = 10 #numero armonicos\n",
        "wo = 2*np.pi/T # frecuencia fundamental\n",
        "# definir bases\n",
        "phin = np.zeros((Nm,2*N+1),dtype=np.complex_)#crear matriz para guardar bases\n",
        "for n in range(-N,N+1,1):\n",
        "    phin[:,n+N] = np.exp(1j*n*wo*tv)#base de fourier en el intervalo de interés"
      ],
      "execution_count": 17,
      "outputs": []
    },
    {
      "cell_type": "code",
      "source": [
        "phin.shape #tamaño matriz phin"
      ],
      "metadata": {
        "id": "giVakVuxbFK_",
        "outputId": "e7bbf14f-701d-46f6-8cc0-8e58d913337b",
        "colab": {
          "base_uri": "https://localhost:8080/"
        }
      },
      "execution_count": 18,
      "outputs": [
        {
          "output_type": "execute_result",
          "data": {
            "text/plain": [
              "(500, 21)"
            ]
          },
          "metadata": {},
          "execution_count": 18
        }
      ]
    },
    {
      "cell_type": "code",
      "metadata": {
        "id": "VDtiQzzn0fBh"
      },
      "source": [
        "# graficar bases\n",
        "from ipywidgets import interact,IntSlider\n",
        "fig, ax = plt.subplots(1, 1,figsize=(6,3))\n",
        "def pltbase(n=1):\n",
        "\n",
        "    plt.plot(tv,np.real(phin[:,int(n+N)]),label=\"Re{$\\phi_n$(t)}\")\n",
        "    plt.xlabel(\"t[s]\",fontsize = 14)\n",
        "    plt.ylabel(\"$\\phi_n$(t)\",fontsize = 14)\n",
        "    plt.plot(tv,np.imag(phin[:,int(n+N)]),label=\"Im{$\\phi_n$(t)}\")\n",
        "    plt.grid()\n",
        "    plt.plot(tv,xo,'r',linewidth=4,label='$x(t)$')\n",
        "    ax.legend(bbox_to_anchor=(1.05, 1), loc='upper left')\n",
        "    plt.gcf().set_figwidth(6)\n",
        "    plt.gcf().set_figheight(3)\n",
        "    plt.show()\n",
        "    return\n",
        "interact(pltbase,n=(-N,N,1))"
      ],
      "execution_count": null,
      "outputs": []
    },
    {
      "cell_type": "code",
      "source": [
        "from matplotlib import animation, rc\n",
        "from IPython.display import HTML\n",
        "\n",
        "#figura y axes animaciónx\n",
        "fig, ax = plt.subplots(1, 1,figsize=(6,3))\n",
        "#función para gráfico interactivo\n",
        "def update(n):\n",
        "    #actualización regresor Bayesiano\n",
        "    #Graficar prior\n",
        "    ax.clear()\n",
        "    ax.plot(tv,np.real(phin[:,int(n+N)]),label=\"Re{$\\phi_n$(t)}\")\n",
        "    ax.set_xlabel(\"t[s]\",fontsize = 12)\n",
        "    ax.set_ylabel(\"$\\phi_n$(t)\",fontsize = 12)\n",
        "    ax.plot(tv,np.imag(phin[:,int(n+N)]),label=\"Im{$\\phi_n$(t)}\")\n",
        "    ax.plot(tv,xo,'r',linewidth=4,label='$x(t)$')\n",
        "    ax.set_title(f'Bases armónico n = {n}')\n",
        "    ax.legend(loc='lower left')\n",
        "    plt.show()\n",
        "\n",
        "#desplegar animación\n",
        "anim = animation.FuncAnimation(fig, update, frames=np.arange(-N,N,1), blit=False)\n",
        "rc('animation', html='jshtml')"
      ],
      "metadata": {
        "id": "BJvkK2PfbW6b"
      },
      "execution_count": null,
      "outputs": []
    },
    {
      "cell_type": "code",
      "source": [
        "anim"
      ],
      "metadata": {
        "id": "eSYXqn_neZYc"
      },
      "execution_count": null,
      "outputs": []
    },
    {
      "cell_type": "markdown",
      "metadata": {
        "id": "WX-RGfmB6Mck"
      },
      "source": [
        "Note que el valor del armónico $n$ para cada gráfica, denota la cantidad de ciclos de las funciones coseno y seno en el intervalo $t\\in[t_i,t_f].$"
      ]
    },
    {
      "cell_type": "markdown",
      "metadata": {
        "id": "UzJFBZU86_3e"
      },
      "source": [
        "# Definición y gráfica del espectro de la serie de Fourier con numpy\n",
        "\n",
        "La siguiente celda de código codifica el espectro $c_n$ según el ejemplo resuelto.\n",
        "\n"
      ]
    },
    {
      "cell_type": "code",
      "metadata": {
        "id": "WM7xPTZN0fBo"
      },
      "source": [
        "#calcular espectro -> cambiar según la señal estudiada\n",
        "cn = np.zeros(2*N+1,dtype=np.complex_)\n",
        "nv = np.linspace(-N, N, 2*N+1) #vector num armónicos\n",
        "Cn = ((1j*A)/(nv*np.pi))*(1-(-1)**nv)\n",
        "Cn[N] = 0 # nivel dc C_0"
      ],
      "execution_count": 22,
      "outputs": []
    },
    {
      "cell_type": "code",
      "metadata": {
        "id": "8HFSa5gg0fBr"
      },
      "source": [
        "#graficar espectro\n",
        "fig = plt.figure(figsize=(8,8))\n",
        "plt.subplot(2,2,1)\n",
        "plt.stem(nv, np.real(Cn), 'r')\n",
        "plt.xlabel(r'$nw_o$[rad/s]',fontsize = 14)\n",
        "plt.ylabel(r'$Re\\{C_n\\}$',fontsize = 14)\n",
        "plt.axis('tight')\n",
        "plt.grid()\n",
        "\n",
        "plt.subplot(2,2,2)\n",
        "plt.stem(nv, np.imag(Cn), 'r')\n",
        "plt.xlabel(r'$nw_o$[rad/s]',fontsize = 14)\n",
        "plt.ylabel(r'$Im\\{C_n\\}$',fontsize = 14)\n",
        "plt.axis('tight')\n",
        "plt.grid()\n",
        "\n",
        "plt.subplot(2,2,3)\n",
        "plt.stem(nv, abs(Cn), 'r')#magnitud del espectro\n",
        "plt.xlabel(r'$nw_o$[rad/s]',fontsize = 14)\n",
        "plt.ylabel(r'$|C_n|$',fontsize = 14)\n",
        "plt.axis('tight')\n",
        "plt.grid()\n",
        "\n",
        "plt.subplot(2,2,4)\n",
        "plt.stem(nv, np.angle(Cn), 'r')#fase del espectro\n",
        "plt.xlabel(r'$nw_o$[rad/s]',fontsize = 14)\n",
        "plt.ylabel(r'$\\langle C_n$',fontsize = 14)\n",
        "plt.axis('tight')\n",
        "plt.grid()\n",
        "\n",
        "fig.tight_layout()"
      ],
      "execution_count": null,
      "outputs": []
    },
    {
      "cell_type": "markdown",
      "metadata": {
        "id": "iH45uMad0fBv"
      },
      "source": [
        "- Para calcular el error de reconstrucción respecto a la cantidad de armónicos considerados (filtrado espectral), se cálcula como:\n",
        "\n",
        "$$e_r[\\%] = \\frac{\\bar{P}_e}{\\bar{P_x}} 100[\\%] = \\left(1-\\frac{\\sum^N_{n=-N}|c_n|^2P_n}{\\bar{P}_e}\\right)100[\\%]$$\n",
        "\n",
        "- En este caso, la potencia de $x(t)$ se cálcula como:\n",
        "\n",
        "\\begin{equation}\n",
        "P_x = \\int\\limits_{-T/2}^{T/2}{|x(t)^2|dt} = A^2\n",
        "\\end{equation}\n",
        "para el caso de la serie exponencial de Fourier $\\varphi_n(t)=e^{jn\\omega_ot}$ y $P_n=1$, por consiguiente:\n",
        "\n",
        "\\begin{equation}\n",
        "E_r[\\%] = 1 - \\left(\\frac{1}{P_x}\\sum\\limits_{n=-N}^N{|c_n|^2}\\right).\n",
        "\\end{equation}\n",
        "\n",
        "- A continuación, se cálcula el error relativo en función de los armónicos considerados y se muestra la señal filtrada para cada caso.\n"
      ]
    },
    {
      "cell_type": "code",
      "metadata": {
        "id": "jrVO9oId0fBw"
      },
      "source": [
        "Px = A**2 # estimar según señal estudiada\n",
        "def pltest(Na=1):\n",
        "    ind = np.arange(N-Na,N+Na+1)\n",
        "    er = 1- np.sum(abs(Cn[ind])**2)/Px\n",
        "    #señal reconstruida\n",
        "    xe = phin[:,ind].dot(Cn[ind] ) # dot calcula el producto entre vectores\n",
        "    plt.plot(tv,xe,color='b',label='$x_e(t)$') # señal estimada o filtrada\n",
        "    plt.plot(tv,xo,color='r',label='x(t)') #señal original\n",
        "    plt.title('$E_r$=%.2f[%%]' % (100*er),fontsize=16)\n",
        "    plt.xlabel('t[s]')\n",
        "    plt.ylabel('x(t)')\n",
        "    plt.grid()\n",
        "    plt.legend()\n",
        "    plt.show()\n",
        "\n",
        "    return\n",
        "interact(pltest,Na=(1,N,1))"
      ],
      "execution_count": null,
      "outputs": []
    },
    {
      "cell_type": "code",
      "source": [
        "#figura y axes animaciónx\n",
        "fig, ax = plt.subplots(2, 3,figsize=(12,5))\n",
        "#función para gráfico interactivo\n",
        "def update(n):\n",
        "    #actualización regresor Bayesiano\n",
        "    #Graficar prior\n",
        "    ax[0,0].clear()\n",
        "    ax[0,1].clear()\n",
        "    ax[0,2].clear()\n",
        "    ax[1,0].clear()\n",
        "    ax[1,1].clear()\n",
        "    ax[1,2].clear()\n",
        "\n",
        "    #espectro\n",
        "    ind = np.arange(N-n,N+n+1) #armónicos a considerar\n",
        "    ax[0,0].stem(nv, abs(Cn), 'b')#magnitud del espectro\n",
        "    ax[0,0].stem(nv[ind], abs(Cn[ind]), 'r')#magnitud del espectro\n",
        "    ax[0,0].set_xlabel(r'$nw_o$[rad/s]')\n",
        "    ax[0,0].set_ylabel(r'$|C_n|$')\n",
        "\n",
        "    #componentes espectrales\n",
        "    ce = phin[:,ind].dot(np.diag(Cn[ind]) )\n",
        "    ax[0,1].plot(np.real(ce))#componente real\n",
        "    ax[0,1].set_xlabel('t[s]')\n",
        "    ax[0,1].set_ylabel('$Re\\{c_n\\phi_n(t)\\}$')\n",
        "\n",
        "    ax[0,2].plot(np.imag(ce))#componente imaginario\n",
        "    ax[0,2].set_xlabel('t[s]')\n",
        "    ax[0,2].set_ylabel('$Im\\{c_n\\phi_n(t)\\}$')\n",
        "\n",
        "\n",
        "\n",
        "\n",
        "    #reconstruccion\n",
        "    er = 1- np.sum(abs(Cn[ind])**2)/Px\n",
        "    #señal reconstruida\n",
        "    xe = phin[:,ind].dot(Cn[ind] ) # dot calcula el producto entre vectores\n",
        "    #error en t\n",
        "    et = xo - xe\n",
        "\n",
        "    ax[1,1].plot(tv,xo,'r',linewidth=4,label='$x(t)$')\n",
        "    ax[1,1].plot(tv,xe,color='b',label='$x_e(t)$') # señal estimada o filtrada\n",
        "    ax[1,1].plot(tv,et,color='g',label='$e(t)$') # señal estimada o filtrada\n",
        "    ax[1,1].set_title('$E_r$=%.2f[%%]' % (100*er))\n",
        "    ax[1,1].set_xlabel('t[s]')\n",
        "    ax[1,1].set_ylabel('x(t)')\n",
        "    ax[1,1].legend(loc='center left', bbox_to_anchor=(1, 0.5))\n",
        "    ax[1,0].axis('off')\n",
        "    ax[1,2].axis('off')\n",
        "    plt.subplots_adjust(wspace=0.5,hspace=0.7)\n",
        "    plt.show()\n",
        "\n",
        "#desplegar animación\n",
        "anim = animation.FuncAnimation(fig, update, frames=np.arange(0,N+1,1), blit=False)\n",
        "rc('animation', html='jshtml')"
      ],
      "metadata": {
        "id": "NqmH8dwQg2YZ"
      },
      "execution_count": null,
      "outputs": []
    },
    {
      "cell_type": "code",
      "source": [
        "anim"
      ],
      "metadata": {
        "id": "Y93QO2eWi3IA"
      },
      "execution_count": null,
      "outputs": []
    },
    {
      "cell_type": "markdown",
      "metadata": {
        "id": "w5aMOdpMQWJu"
      },
      "source": [
        "# El fenómeno de Gibbs y la serie de Fourier\n",
        "\n",
        "**Nota**: Para discontinuidades de primer orden ($dx(t)/dt =0$), la serie de Fourier aproxima la señal como el promedio $(x(t_+)+x(t_-))/2$. En el anterior fenómeno se conoce como el [fenómeno de Gibbs](https://es.wikipedia.org/wiki/Fen%C3%B3meno_de_Gibbs)."
      ]
    },
    {
      "cell_type": "markdown",
      "metadata": {
        "id": "391S3mxMR6W0"
      },
      "source": [
        "# Reconstrucción de la serie por fuera del intervalo definido\n",
        "\n",
        "- Por la naturaleza períodica de las bases, la serie de Fourier asume que la señal a reconstruir también es periódica, con periodo $T = t_f - t_i$ y frecuencia fundamental $\\omega_0=2\\pi/T.$\n",
        "\n",
        "- En este sentido, si se evalua la reconstrucción por fuera del intervalo finito definido $[t_i,t_f]$, la serie de Fourier replica la reconstrucción (asume señal periódica $x(t)$)."
      ]
    },
    {
      "cell_type": "code",
      "metadata": {
        "id": "THdbNVK7d0NE"
      },
      "source": [
        "tT = np.arange(-2*T,2*T,1/Fs) # se grafican 3 periodos\n",
        "# definir bases\n",
        "phinT = np.zeros((len(tT),2*N+1),dtype=np.complex_)\n",
        "for n in range(-N,N+1,1):\n",
        "    phinT[:,n+N] = np.exp(1j*n*wo*tT)\n",
        "\n",
        "xe2 = phinT.dot(Cn)#reconstrucción de la señal\n",
        "plt.plot(tT,xe2)\n",
        "plt.xlabel('t[s]')\n",
        "plt.ylabel('$\\hat{x}(t)$')\n",
        "plt.show()"
      ],
      "execution_count": null,
      "outputs": []
    },
    {
      "cell_type": "markdown",
      "source": [
        "# Serie de Fourier [Animación](https://youtu.be/cUD1gMAl6W4)"
      ],
      "metadata": {
        "id": "OLLdmCRJXQF4"
      }
    },
    {
      "cell_type": "markdown",
      "source": [
        "# Ejercicios\n",
        "\n",
        "1. Presente una simulación relacionada con la proyección lineal de $\\mathbf{a}\\in\\mathbb{R}^2$ sobre $\\mathbf{b}\\in\\mathbb{R}^2$. El código debe permitir al usuario ingresar las componentes de los dos vectores, calcular el factor de escala de la proyección y graficar los vectores de entrada y el proyectado (usar la función [pyplot.arrow](https://matplotlib.org/stable/api/_as_gen/matplotlib.pyplot.arrow.html)).\n",
        "\n",
        "2. Encontrar la representación por serie exponencial de Fourier de la señal $x(t) = A {\\rm{rect}}_{\\tau/2}(t)$, con $t\\in [-\\tau/2,\\tau/2]$. Graficar el espectro, la fase del espectro, la reconstrucción para $n\\in\\{0,\\pm1,\\pm2,\\dots\\}$, y determinar el valor del error relativo para cada valor de $n$. Utilice el ambiente animación de Python para mostrar los resultados."
      ],
      "metadata": {
        "id": "3vI8lrtjtW8x"
      }
    },
    {
      "cell_type": "markdown",
      "source": [
        "EJERCICIO #1"
      ],
      "metadata": {
        "id": "QbOR8qaIwfM-"
      }
    },
    {
      "cell_type": "code",
      "metadata": {
        "id": "9aUE1hI7SK48"
      },
      "source": [
        "import matplotlib.pyplot as plt\n",
        "\n",
        "# Función para calcular la proyección lineal de a sobre b\n",
        "def proyeccion_lineal(a, b):\n",
        "    escalar = (a[0]*b[0] + a[1]*b[1]) / (b[0]**2 + b[1]**2)\n",
        "    proyectado = [escalar * b[0], escalar * b[1]]\n",
        "    return proyectado\n",
        "\n",
        "# Pedir al usuario las componentes de los vectores\n",
        "a = [float(input(\"Ingrese la componente x de a: \")), float(input(\"Ingrese la componente y de a: \"))]\n",
        "b = [float(input(\"Ingrese la componente x de b: \")), float(input(\"Ingrese la componente y de b: \"))]\n",
        "\n",
        "# Calcular la proyección lineal\n",
        "proyectado = proyeccion_lineal(a, b)\n",
        "\n",
        "# Graficar los vectores\n",
        "plt.figure(figsize=(6, 6))\n",
        "plt.axhline(0, color='black',linewidth=0.5)\n",
        "plt.axvline(0, color='black',linewidth=0.5)\n",
        "plt.grid(color = 'gray', linestyle = '--', linewidth = 0.5)\n",
        "plt.xlim(-10, 10)\n",
        "plt.ylim(-10, 10)\n",
        "\n",
        "# Dibujar el vector a\n",
        "plt.arrow(0, 0, a[0], a[1], head_width=0.2, head_length=0.2, fc='pink', ec='pink', label='Vector a')\n",
        "\n",
        "# Dibujar el vector b\n",
        "plt.arrow(0, 0, b[0], b[1], head_width=0.2, head_length=0.2, fc='purple', ec='purple', label='Vector b')\n",
        "\n",
        "# Dibujar el vector proyectado\n",
        "plt.arrow(0, 0, proyectado[0], proyectado[1], head_width=0.2, head_length=0.2, fc='orange', ec='orange', label='Proyección de a sobre b')\n",
        "\n",
        "plt.legend()\n",
        "plt.show()"
      ],
      "execution_count": null,
      "outputs": []
    },
    {
      "cell_type": "markdown",
      "source": [
        "EJERCICIO #2"
      ],
      "metadata": {
        "id": "aqwVAHRswkgG"
      }
    },
    {
      "cell_type": "code",
      "source": [
        "import matplotlib.pyplot as plt\n",
        "import numpy as np\n",
        "import matplotlib.cm as cm\n",
        "import warnings\n",
        "warnings.filterwarnings(\"ignore\")\n",
        "\n",
        "def set_spines():\n",
        "    ax = plt.gca()\n",
        "    ax.spines['right'].set_color('none')\n",
        "    ax.spines['top'].set_color('none')\n",
        "    ax.yaxis.set_ticks_position('left')\n",
        "    ax.spines['left'].set_position(('data',0))\n",
        "    ax.xaxis.set_ticks_position('bottom')\n",
        "    ax.spines['bottom'].set_position(('data',0))\n",
        "\n",
        "\n",
        "def plot_serie_fourier(t, X, Z, Cn_v, n_v, figsize=[20,4], xlim=None, ylim=None, grid=True, FFT=False):\n",
        "\n",
        "    plt.figure(figsize=figsize)\n",
        "    plt.subplot(121)\n",
        "    plt.plot(t,X,'k', label='$x(t)$')\n",
        "    N=len(Cn_v)/2\n",
        "    if (FFT): N=2*N\n",
        "    plt.plot(t,Z,'yellow', label='$F\\{x(t)\\} \\ N=%d$'%N)\n",
        "    plt.legend(loc='best')\n",
        "    plt.ylabel(\"$X(t)$\", fontsize = 12)\n",
        "    set_spines()\n",
        "    plt.grid(grid)\n",
        "    if (grid): plt.grid(color = '0.5', linestyle = '--', linewidth = 1)\n",
        "    if (FFT): plt.title('Reconstruccion de $X(t)$ por medio de FFT',\n",
        "                        fontsize = 14, verticalalignment = 'baseline', horizontalalignment = 'center')\n",
        "    else: plt.title('Reconstruccion de $X(t)$ por medio de la Serie de Fourier',\n",
        "                        fontsize = 14, verticalalignment = 'baseline', horizontalalignment = 'center')\n",
        "    plt.xlim(xlim); plt.ylim(ylim)\n",
        "    plt.subplot(122)\n",
        "    plt.stem(n_v,Cn_v,'r',label='N=%d'%N,basefmt='k'); plt.legend(loc='best')\n",
        "    if (FFT): plt.xlabel(\"$\\omega$\", fontsize = 12)\n",
        "    else: plt.xlabel(\"$n\\omega_0$\", fontsize = 12)\n",
        "    plt.ylabel(\"$C_n$\", fontsize = 12)\n",
        "    set_spines()\n",
        "    plt.grid(grid)\n",
        "    if (grid): plt.grid(color = '0.5', linestyle = '--', linewidth = 1)\n",
        "    if (FFT): plt.title('FFT $(C_n \\ vs \\ \\omega)$',\n",
        "                        fontsize =14, verticalalignment = 'baseline', horizontalalignment = 'center')\n",
        "    else: plt.title('Serie de Fourier $(C_n \\ vs \\ n\\omega_0)$',\n",
        "                        fontsize =14, verticalalignment = 'baseline', horizontalalignment = 'center')\n",
        "    plt.show()\n",
        "\n",
        "def print_error_re(Cn_v, N, px,ne=5):\n",
        "    for i in range (ne+1):\n",
        "        e = (1-np.sum(np.power(Cn_v[N-i:N+i],2)))/px\n",
        "        print('Error relativo para n =',i,':', abs(np.round(e*100,3)),'%')"
      ],
      "metadata": {
        "id": "jC0ZWuwCwqSS"
      },
      "execution_count": 30,
      "outputs": []
    },
    {
      "cell_type": "code",
      "source": [
        "import sympy as sym\n",
        "import numpy as np\n",
        "\n",
        "puntos = 1000\n",
        "\n",
        "#Para phi_n(t)=e^(jnw0t):\n",
        "T=np.pi\n",
        "wo=(2*np.pi)/T\n",
        "\n",
        "t = np.linspace(-T/2,T/2,puntos)\n",
        "# Definir la señal rectangular utilizando NumPy\n",
        "x = A * np.where(np.logical_and(t >= -T/2, t <= T/2), 1, 0)\n",
        "\n",
        "# Calcular la potencia promedio de la señal con NumPy\n",
        "px = np.sum(np.abs(x)**2) / T\n",
        "\n",
        "#Para Cn:\n",
        "N = 10; Z=np.zeros_like(t); Cn_v=[]; n_v=[]; Q=0\n",
        "for n in range (-N,N,1):\n",
        "    if (n==0): Cn=1/2\n",
        "    elif (n==1 or n==-1): Cn=1/4\n",
        "    else: Cn=0\n",
        "    phi_n = np.cos(n*wo*t)\n",
        "    Z += Cn*phi_n\n",
        "    Cn_v.append(abs(Cn))\n",
        "    Q += abs(Cn)**2\n",
        "    n_v.append(n*wo)\n",
        "Erel = ((1-Q)/px)*100\n",
        "\n",
        "print_error_re(Cn_v,N,px)\n",
        "plot_serie_fourier(t, x, Z, Cn_v, n_v,grid=False)\n",
        "\n",
        "print('Error Relativo N =',N,':',round(Erel,3),\"%\")"
      ],
      "metadata": {
        "id": "0KrCC7zGp1qU"
      },
      "execution_count": null,
      "outputs": []
    }
  ]
}
